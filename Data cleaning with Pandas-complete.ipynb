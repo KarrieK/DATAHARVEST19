{
 "cells": [
  {
   "cell_type": "markdown",
   "metadata": {},
   "source": [
    "  # Data Cleaning with Pandas #"
   ]
  },
  {
   "cell_type": "markdown",
   "metadata": {},
   "source": [
    "Welcome to your introduction to Pandas and Jupyter Notebook!"
   ]
  },
  {
   "cell_type": "markdown",
   "metadata": {},
   "source": [
    "Today we're going to learn how to read in a csv file, create a dataframe, identify different ways it may be dirty and learn some techniques for cleaning up our data set. "
   ]
  },
  {
   "cell_type": "markdown",
   "metadata": {},
   "source": [
    "karrie.anne.kehoe@gmail.com/@karriekehoe"
   ]
  },
  {
   "cell_type": "markdown",
   "metadata": {},
   "source": [
    "## Getting to grips with Jupyter Notebook and Pandas"
   ]
  },
  {
   "cell_type": "markdown",
   "metadata": {},
   "source": [
    "Jupyter Notebook is an interactive, browser based programing environment. It can be used for multiple programming languages, for writing documentation and visualising data. If you want to learn more about what Jupyter Notebook can read its documentation at http://jupyter-notebook.readthedocs.io/en/latest/notebook.html"
   ]
  },
  {
   "cell_type": "markdown",
   "metadata": {},
   "source": [
    "Pandas is a python library, designed for statistical analysis. It's very flexible, easy to use and has a range of useful built in functions. If you want to learn more about what Pandas can do, you can read its documentation at http://pandas.pydata.org/ or browse the cook book at http://pandas.pydata.org/pandas-docs/version/0.18.1/tutorials.html  "
   ]
  },
  {
   "cell_type": "markdown",
   "metadata": {},
   "source": [
    "### Shortcuts:\n",
    "* `esc` - takes you into command mode\n",
    "* `a` - insert cell above\n",
    "* `b` - insert cell below\n",
    "* `shift then tab` will show you the documentation for your code\n",
    "* `shift and enter` will run your cell\n",
    "* ` d d` will delete a cell"
   ]
  },
  {
   "cell_type": "markdown",
   "metadata": {},
   "source": [
    "### Our Data"
   ]
  },
  {
   "cell_type": "markdown",
   "metadata": {},
   "source": [
    "Today we're going to look at Farm subsidaries given to Irish companies and groups from 2013. Courtesy of https://farmsubsidy.org"
   ]
  },
  {
   "cell_type": "markdown",
   "metadata": {},
   "source": [
    "### Terminology ###"
   ]
  },
  {
   "cell_type": "markdown",
   "metadata": {},
   "source": [
    "**Dataframe** - a dataframe is a two dimensional tabular data structure with labeled axes\n",
    "\n",
    "**Series** - a series is similar to a list, array or a single column within a dataframe"
   ]
  },
  {
   "cell_type": "markdown",
   "metadata": {},
   "source": [
    "## Starting off"
   ]
  },
  {
   "cell_type": "markdown",
   "metadata": {},
   "source": [
    "First we need to import Pandas our python library to do so we use the line of code below. We use 'pd' as an alias to make it easier when typing in our code.\n",
    "We are going to type \n",
    "\n",
    "`import pandas as pd`"
   ]
  },
  {
   "cell_type": "code",
   "execution_count": 208,
   "metadata": {},
   "outputs": [],
   "source": [
    "import pandas as pd"
   ]
  },
  {
   "cell_type": "markdown",
   "metadata": {},
   "source": [
    "Now we create a dataframe and read in our csv.\n",
    "\n",
    "`df = pd.read_csv('filepath')`"
   ]
  },
  {
   "cell_type": "code",
   "execution_count": 209,
   "metadata": {},
   "outputs": [],
   "source": [
    "df = pd.read_csv('/Users/karrie/Desktop/2019/DataHarvest19/IRISH_FARM.csv')"
   ]
  },
  {
   "cell_type": "markdown",
   "metadata": {},
   "source": [
    "Let's look at the first ten rows of our data\n",
    "\n",
    "`df.head(10)`"
   ]
  },
  {
   "cell_type": "code",
   "execution_count": 210,
   "metadata": {},
   "outputs": [
    {
     "data": {
      "text/html": [
       "<div>\n",
       "<style scoped>\n",
       "    .dataframe tbody tr th:only-of-type {\n",
       "        vertical-align: middle;\n",
       "    }\n",
       "\n",
       "    .dataframe tbody tr th {\n",
       "        vertical-align: top;\n",
       "    }\n",
       "\n",
       "    .dataframe thead th {\n",
       "        text-align: right;\n",
       "    }\n",
       "</style>\n",
       "<table border=\"1\" class=\"dataframe\">\n",
       "  <thead>\n",
       "    <tr style=\"text-align: right;\">\n",
       "      <th></th>\n",
       "      <th>Name</th>\n",
       "      <th>Location</th>\n",
       "      <th>Country</th>\n",
       "      <th>Total_Amount</th>\n",
       "      <th>year</th>\n",
       "      <th>Type</th>\n",
       "    </tr>\n",
       "  </thead>\n",
       "  <tbody>\n",
       "    <tr>\n",
       "      <th>0</th>\n",
       "      <td>THE IRISH DAIRY BOARD CO-OP</td>\n",
       "      <td>Dublin,</td>\n",
       "      <td>Ireland</td>\n",
       "      <td>€ 8,399,529.90</td>\n",
       "      <td>2013</td>\n",
       "      <td>Farm Subsidary</td>\n",
       "    </tr>\n",
       "    <tr>\n",
       "      <th>1</th>\n",
       "      <td>BALLYHOURA DEVELOPMENT LTD.</td>\n",
       "      <td>Limerick,</td>\n",
       "      <td>IE</td>\n",
       "      <td>€ 7,231,200.44</td>\n",
       "      <td>2013</td>\n",
       "      <td>Farm Subsidary</td>\n",
       "    </tr>\n",
       "    <tr>\n",
       "      <th>2</th>\n",
       "      <td>WEST CORK DEVELOPMENT PARTNERSHIP LTD.</td>\n",
       "      <td>Cork,</td>\n",
       "      <td>IE</td>\n",
       "      <td>€ 6,487,223.82</td>\n",
       "      <td>2013</td>\n",
       "      <td>Farm Subsidary</td>\n",
       "    </tr>\n",
       "    <tr>\n",
       "      <th>3</th>\n",
       "      <td>GALWAY RURAL DEVELOPMENT COMPANY</td>\n",
       "      <td>Galway,</td>\n",
       "      <td>IE</td>\n",
       "      <td>€ 6,144,907.97</td>\n",
       "      <td>2013</td>\n",
       "      <td>Farm Subsidary</td>\n",
       "    </tr>\n",
       "    <tr>\n",
       "      <th>4</th>\n",
       "      <td>WEXFORD LOCAL DEVELOPMENT</td>\n",
       "      <td>Wexford,</td>\n",
       "      <td>IE</td>\n",
       "      <td>€ 6,100,526.55</td>\n",
       "      <td>2013</td>\n",
       "      <td>Farm Subsidary</td>\n",
       "    </tr>\n",
       "    <tr>\n",
       "      <th>5</th>\n",
       "      <td>CO KILKENNY LEADER PARTNERSHIP</td>\n",
       "      <td>Kilkenny,</td>\n",
       "      <td>IE</td>\n",
       "      <td>€ 5,489,784.19</td>\n",
       "      <td>2013</td>\n",
       "      <td>Farm Subsidary</td>\n",
       "    </tr>\n",
       "    <tr>\n",
       "      <th>6</th>\n",
       "      <td>CLARE LOCAL DEVELOPMENT COMPANY LTD.</td>\n",
       "      <td>Clare,</td>\n",
       "      <td>IE</td>\n",
       "      <td>€ 5,411,178.07</td>\n",
       "      <td>2013</td>\n",
       "      <td>Farm Subsidary</td>\n",
       "    </tr>\n",
       "    <tr>\n",
       "      <th>7</th>\n",
       "      <td>IRD DUHALLOW LTD.</td>\n",
       "      <td>Cork,</td>\n",
       "      <td>IE</td>\n",
       "      <td>€ 5,379,994.02</td>\n",
       "      <td>2013</td>\n",
       "      <td>Farm Subsidary</td>\n",
       "    </tr>\n",
       "    <tr>\n",
       "      <th>8</th>\n",
       "      <td>SOUTH TIPPERARY LOCAL DEVELOPMENT CO LTD</td>\n",
       "      <td>Tipperary,</td>\n",
       "      <td>IE</td>\n",
       "      <td>€ 5,208,545.68</td>\n",
       "      <td>2013</td>\n",
       "      <td>Farm Subsidary</td>\n",
       "    </tr>\n",
       "    <tr>\n",
       "      <th>9</th>\n",
       "      <td>DONEGAL LOCAL DEVELOPMENT COMPANY LTD.</td>\n",
       "      <td>Donegal,</td>\n",
       "      <td>IE</td>\n",
       "      <td>€ 4,814,034.80</td>\n",
       "      <td>2013</td>\n",
       "      <td>Farm Subsidary</td>\n",
       "    </tr>\n",
       "  </tbody>\n",
       "</table>\n",
       "</div>"
      ],
      "text/plain": [
       "                                       Name    Location  Country  \\\n",
       "0               THE IRISH DAIRY BOARD CO-OP     Dublin,  Ireland   \n",
       "1               BALLYHOURA DEVELOPMENT LTD.   Limerick,       IE   \n",
       "2    WEST CORK DEVELOPMENT PARTNERSHIP LTD.       Cork,       IE   \n",
       "3          GALWAY RURAL DEVELOPMENT COMPANY     Galway,       IE   \n",
       "4                 WEXFORD LOCAL DEVELOPMENT    Wexford,       IE   \n",
       "5            CO KILKENNY LEADER PARTNERSHIP   Kilkenny,       IE   \n",
       "6      CLARE LOCAL DEVELOPMENT COMPANY LTD.      Clare,       IE   \n",
       "7                         IRD DUHALLOW LTD.       Cork,       IE   \n",
       "8  SOUTH TIPPERARY LOCAL DEVELOPMENT CO LTD  Tipperary,       IE   \n",
       "9    DONEGAL LOCAL DEVELOPMENT COMPANY LTD.    Donegal,       IE   \n",
       "\n",
       "       Total_Amount   year           Type   \n",
       "0   € 8,399,529.90    2013  Farm Subsidary  \n",
       "1   € 7,231,200.44    2013  Farm Subsidary  \n",
       "2   € 6,487,223.82    2013  Farm Subsidary  \n",
       "3   € 6,144,907.97    2013  Farm Subsidary  \n",
       "4   € 6,100,526.55    2013  Farm Subsidary  \n",
       "5   € 5,489,784.19    2013  Farm Subsidary  \n",
       "6   € 5,411,178.07    2013  Farm Subsidary  \n",
       "7   € 5,379,994.02    2013  Farm Subsidary  \n",
       "8   € 5,208,545.68    2013  Farm Subsidary  \n",
       "9   € 4,814,034.80    2013  Farm Subsidary  "
      ]
     },
     "execution_count": 210,
     "metadata": {},
     "output_type": "execute_result"
    }
   ],
   "source": [
    "df.head(10)"
   ]
  },
  {
   "cell_type": "markdown",
   "metadata": {},
   "source": [
    "Next we need to know what data types we're dealing with for each column in our dataframe\n",
    "\n",
    "`df.dtypes`"
   ]
  },
  {
   "cell_type": "code",
   "execution_count": 211,
   "metadata": {},
   "outputs": [
    {
     "data": {
      "text/plain": [
       "Name            object\n",
       "Location        object\n",
       "Country         object\n",
       "Total_Amount    object\n",
       " year            int64\n",
       "Type            object\n",
       "dtype: object"
      ]
     },
     "execution_count": 211,
     "metadata": {},
     "output_type": "execute_result"
    }
   ],
   "source": [
    "df.dtypes"
   ]
  },
  {
   "cell_type": "markdown",
   "metadata": {},
   "source": [
    "We use .shape to find the dimensions of our data\n",
    "\n",
    "`df.shape`"
   ]
  },
  {
   "cell_type": "code",
   "execution_count": 212,
   "metadata": {},
   "outputs": [
    {
     "data": {
      "text/plain": [
       "(480, 6)"
      ]
     },
     "execution_count": 212,
     "metadata": {},
     "output_type": "execute_result"
    }
   ],
   "source": [
    "df.shape"
   ]
  },
  {
   "cell_type": "markdown",
   "metadata": {},
   "source": [
    "Let's get a list of our column headers to make sure there aren't any problems with them"
   ]
  },
  {
   "cell_type": "code",
   "execution_count": 222,
   "metadata": {},
   "outputs": [
    {
     "data": {
      "text/plain": [
       "Index(['Name', 'Location', 'Country', 'Total_Amount', ' year', 'Type '], dtype='object')"
      ]
     },
     "execution_count": 222,
     "metadata": {},
     "output_type": "execute_result"
    }
   ],
   "source": [
    "df.columns"
   ]
  },
  {
   "cell_type": "markdown",
   "metadata": {},
   "source": [
    "## Data Problems: \n",
    "* Location has commas in the name\n",
    "* Total amount are python objects and not ints or floats, so we can't perform any calculations on them\n",
    "* There is something weird looking with the year column\n",
    "* The country column seems to be dirty"
   ]
  },
  {
   "cell_type": "markdown",
   "metadata": {},
   "source": [
    "Before we change anything we're going to create a copy of our dataframe and clean that up\n",
    "\n",
    "`df2.copy()`"
   ]
  },
  {
   "cell_type": "code",
   "execution_count": 213,
   "metadata": {},
   "outputs": [],
   "source": [
    "df2 = df.copy()"
   ]
  },
  {
   "cell_type": "markdown",
   "metadata": {},
   "source": [
    "## Cleaning strings\n",
    "\n",
    "We need to clean up the Total amount column and convert it to an integer so we can count it. How do we check that it's worked?\n",
    "\n",
    "`df2['col'] = df2['col'].str.replace('€', '')`"
   ]
  },
  {
   "cell_type": "code",
   "execution_count": 214,
   "metadata": {},
   "outputs": [],
   "source": [
    "df2['Clean'] = df2['Total_Amount'].str.replace('€','')"
   ]
  },
  {
   "cell_type": "code",
   "execution_count": 215,
   "metadata": {},
   "outputs": [
    {
     "data": {
      "text/html": [
       "<div>\n",
       "<style scoped>\n",
       "    .dataframe tbody tr th:only-of-type {\n",
       "        vertical-align: middle;\n",
       "    }\n",
       "\n",
       "    .dataframe tbody tr th {\n",
       "        vertical-align: top;\n",
       "    }\n",
       "\n",
       "    .dataframe thead th {\n",
       "        text-align: right;\n",
       "    }\n",
       "</style>\n",
       "<table border=\"1\" class=\"dataframe\">\n",
       "  <thead>\n",
       "    <tr style=\"text-align: right;\">\n",
       "      <th></th>\n",
       "      <th>Name</th>\n",
       "      <th>Location</th>\n",
       "      <th>Country</th>\n",
       "      <th>Total_Amount</th>\n",
       "      <th>year</th>\n",
       "      <th>Type</th>\n",
       "      <th>Clean</th>\n",
       "    </tr>\n",
       "  </thead>\n",
       "  <tbody>\n",
       "    <tr>\n",
       "      <th>0</th>\n",
       "      <td>THE IRISH DAIRY BOARD CO-OP</td>\n",
       "      <td>Dublin,</td>\n",
       "      <td>Ireland</td>\n",
       "      <td>€ 8,399,529.90</td>\n",
       "      <td>2013</td>\n",
       "      <td>Farm Subsidary</td>\n",
       "      <td>8,399,529.90</td>\n",
       "    </tr>\n",
       "    <tr>\n",
       "      <th>1</th>\n",
       "      <td>BALLYHOURA DEVELOPMENT LTD.</td>\n",
       "      <td>Limerick,</td>\n",
       "      <td>IE</td>\n",
       "      <td>€ 7,231,200.44</td>\n",
       "      <td>2013</td>\n",
       "      <td>Farm Subsidary</td>\n",
       "      <td>7,231,200.44</td>\n",
       "    </tr>\n",
       "    <tr>\n",
       "      <th>2</th>\n",
       "      <td>WEST CORK DEVELOPMENT PARTNERSHIP LTD.</td>\n",
       "      <td>Cork,</td>\n",
       "      <td>IE</td>\n",
       "      <td>€ 6,487,223.82</td>\n",
       "      <td>2013</td>\n",
       "      <td>Farm Subsidary</td>\n",
       "      <td>6,487,223.82</td>\n",
       "    </tr>\n",
       "    <tr>\n",
       "      <th>3</th>\n",
       "      <td>GALWAY RURAL DEVELOPMENT COMPANY</td>\n",
       "      <td>Galway,</td>\n",
       "      <td>IE</td>\n",
       "      <td>€ 6,144,907.97</td>\n",
       "      <td>2013</td>\n",
       "      <td>Farm Subsidary</td>\n",
       "      <td>6,144,907.97</td>\n",
       "    </tr>\n",
       "    <tr>\n",
       "      <th>4</th>\n",
       "      <td>WEXFORD LOCAL DEVELOPMENT</td>\n",
       "      <td>Wexford,</td>\n",
       "      <td>IE</td>\n",
       "      <td>€ 6,100,526.55</td>\n",
       "      <td>2013</td>\n",
       "      <td>Farm Subsidary</td>\n",
       "      <td>6,100,526.55</td>\n",
       "    </tr>\n",
       "  </tbody>\n",
       "</table>\n",
       "</div>"
      ],
      "text/plain": [
       "                                     Name   Location  Country  \\\n",
       "0             THE IRISH DAIRY BOARD CO-OP    Dublin,  Ireland   \n",
       "1             BALLYHOURA DEVELOPMENT LTD.  Limerick,       IE   \n",
       "2  WEST CORK DEVELOPMENT PARTNERSHIP LTD.      Cork,       IE   \n",
       "3        GALWAY RURAL DEVELOPMENT COMPANY    Galway,       IE   \n",
       "4               WEXFORD LOCAL DEVELOPMENT   Wexford,       IE   \n",
       "\n",
       "       Total_Amount   year           Type             Clean  \n",
       "0   € 8,399,529.90    2013  Farm Subsidary    8,399,529.90   \n",
       "1   € 7,231,200.44    2013  Farm Subsidary    7,231,200.44   \n",
       "2   € 6,487,223.82    2013  Farm Subsidary    6,487,223.82   \n",
       "3   € 6,144,907.97    2013  Farm Subsidary    6,144,907.97   \n",
       "4   € 6,100,526.55    2013  Farm Subsidary    6,100,526.55   "
      ]
     },
     "execution_count": 215,
     "metadata": {},
     "output_type": "execute_result"
    }
   ],
   "source": [
    "df2.head()"
   ]
  },
  {
   "cell_type": "markdown",
   "metadata": {},
   "source": [
    "Next thing is to remove those pesky commas from our data"
   ]
  },
  {
   "cell_type": "code",
   "execution_count": 216,
   "metadata": {},
   "outputs": [],
   "source": [
    "df2['Clean'] = df2['Clean'].str.replace(',', '')"
   ]
  },
  {
   "cell_type": "code",
   "execution_count": 217,
   "metadata": {},
   "outputs": [
    {
     "data": {
      "text/html": [
       "<div>\n",
       "<style scoped>\n",
       "    .dataframe tbody tr th:only-of-type {\n",
       "        vertical-align: middle;\n",
       "    }\n",
       "\n",
       "    .dataframe tbody tr th {\n",
       "        vertical-align: top;\n",
       "    }\n",
       "\n",
       "    .dataframe thead th {\n",
       "        text-align: right;\n",
       "    }\n",
       "</style>\n",
       "<table border=\"1\" class=\"dataframe\">\n",
       "  <thead>\n",
       "    <tr style=\"text-align: right;\">\n",
       "      <th></th>\n",
       "      <th>Name</th>\n",
       "      <th>Location</th>\n",
       "      <th>Country</th>\n",
       "      <th>Total_Amount</th>\n",
       "      <th>year</th>\n",
       "      <th>Type</th>\n",
       "      <th>Clean</th>\n",
       "    </tr>\n",
       "  </thead>\n",
       "  <tbody>\n",
       "    <tr>\n",
       "      <th>0</th>\n",
       "      <td>THE IRISH DAIRY BOARD CO-OP</td>\n",
       "      <td>Dublin,</td>\n",
       "      <td>Ireland</td>\n",
       "      <td>€ 8,399,529.90</td>\n",
       "      <td>2013</td>\n",
       "      <td>Farm Subsidary</td>\n",
       "      <td>8399529.90</td>\n",
       "    </tr>\n",
       "    <tr>\n",
       "      <th>1</th>\n",
       "      <td>BALLYHOURA DEVELOPMENT LTD.</td>\n",
       "      <td>Limerick,</td>\n",
       "      <td>IE</td>\n",
       "      <td>€ 7,231,200.44</td>\n",
       "      <td>2013</td>\n",
       "      <td>Farm Subsidary</td>\n",
       "      <td>7231200.44</td>\n",
       "    </tr>\n",
       "    <tr>\n",
       "      <th>2</th>\n",
       "      <td>WEST CORK DEVELOPMENT PARTNERSHIP LTD.</td>\n",
       "      <td>Cork,</td>\n",
       "      <td>IE</td>\n",
       "      <td>€ 6,487,223.82</td>\n",
       "      <td>2013</td>\n",
       "      <td>Farm Subsidary</td>\n",
       "      <td>6487223.82</td>\n",
       "    </tr>\n",
       "    <tr>\n",
       "      <th>3</th>\n",
       "      <td>GALWAY RURAL DEVELOPMENT COMPANY</td>\n",
       "      <td>Galway,</td>\n",
       "      <td>IE</td>\n",
       "      <td>€ 6,144,907.97</td>\n",
       "      <td>2013</td>\n",
       "      <td>Farm Subsidary</td>\n",
       "      <td>6144907.97</td>\n",
       "    </tr>\n",
       "    <tr>\n",
       "      <th>4</th>\n",
       "      <td>WEXFORD LOCAL DEVELOPMENT</td>\n",
       "      <td>Wexford,</td>\n",
       "      <td>IE</td>\n",
       "      <td>€ 6,100,526.55</td>\n",
       "      <td>2013</td>\n",
       "      <td>Farm Subsidary</td>\n",
       "      <td>6100526.55</td>\n",
       "    </tr>\n",
       "  </tbody>\n",
       "</table>\n",
       "</div>"
      ],
      "text/plain": [
       "                                     Name   Location  Country  \\\n",
       "0             THE IRISH DAIRY BOARD CO-OP    Dublin,  Ireland   \n",
       "1             BALLYHOURA DEVELOPMENT LTD.  Limerick,       IE   \n",
       "2  WEST CORK DEVELOPMENT PARTNERSHIP LTD.      Cork,       IE   \n",
       "3        GALWAY RURAL DEVELOPMENT COMPANY    Galway,       IE   \n",
       "4               WEXFORD LOCAL DEVELOPMENT   Wexford,       IE   \n",
       "\n",
       "       Total_Amount   year           Type           Clean  \n",
       "0   € 8,399,529.90    2013  Farm Subsidary    8399529.90   \n",
       "1   € 7,231,200.44    2013  Farm Subsidary    7231200.44   \n",
       "2   € 6,487,223.82    2013  Farm Subsidary    6487223.82   \n",
       "3   € 6,144,907.97    2013  Farm Subsidary    6144907.97   \n",
       "4   € 6,100,526.55    2013  Farm Subsidary    6100526.55   "
      ]
     },
     "execution_count": 217,
     "metadata": {},
     "output_type": "execute_result"
    }
   ],
   "source": [
    "df2.head()"
   ]
  },
  {
   "cell_type": "markdown",
   "metadata": {},
   "source": [
    "Now check to see if that worked"
   ]
  },
  {
   "cell_type": "code",
   "execution_count": 218,
   "metadata": {
    "scrolled": true
   },
   "outputs": [
    {
     "data": {
      "text/plain": [
       "Name            object\n",
       "Location        object\n",
       "Country         object\n",
       "Total_Amount    object\n",
       " year            int64\n",
       "Type            object\n",
       "Clean           object\n",
       "dtype: object"
      ]
     },
     "execution_count": 218,
     "metadata": {},
     "output_type": "execute_result"
    }
   ],
   "source": [
    "df2.dtypes"
   ]
  },
  {
   "cell_type": "markdown",
   "metadata": {},
   "source": [
    "It looks like the Country column is dirty too, let's clean that"
   ]
  },
  {
   "cell_type": "code",
   "execution_count": 219,
   "metadata": {},
   "outputs": [
    {
     "data": {
      "text/plain": [
       "IE                413\n",
       "Ireland            25\n",
       "REP OF IRELAND     24\n",
       "EIRE               18\n",
       "Name: Country, dtype: int64"
      ]
     },
     "execution_count": 219,
     "metadata": {},
     "output_type": "execute_result"
    }
   ],
   "source": [
    "df2['Country'].value_counts()"
   ]
  },
  {
   "cell_type": "markdown",
   "metadata": {},
   "source": [
    "Let's use a string replacement to standardise our data  `df2['Col'] = df2['Col'].str.replace('x', '')`"
   ]
  },
  {
   "cell_type": "code",
   "execution_count": 223,
   "metadata": {},
   "outputs": [],
   "source": [
    "df2['Country_clean'] = df2['Country'].str.replace('EIRE', 'IE')"
   ]
  },
  {
   "cell_type": "code",
   "execution_count": 226,
   "metadata": {},
   "outputs": [],
   "source": [
    "df2['Country_clean'] = df2['Country_clean'].str.replace('Ireland', 'IE')\n",
    "df2['Country_clean'] = df2['Country_clean'].str.replace('REP OF IRELAND', 'IE')"
   ]
  },
  {
   "cell_type": "code",
   "execution_count": 227,
   "metadata": {},
   "outputs": [
    {
     "data": {
      "text/plain": [
       "IE    480\n",
       "Name: Country, dtype: int64"
      ]
     },
     "execution_count": 227,
     "metadata": {},
     "output_type": "execute_result"
    }
   ],
   "source": [
    "df2['Country'].value_counts()"
   ]
  },
  {
   "cell_type": "markdown",
   "metadata": {},
   "source": [
    "## Changing data types\n",
    "\n",
    "Ok, no luck. We need to explicitly change the data type for the new Value clean column.\n",
    "\n",
    "`df2['Value_clean'] = pd.to_numeric(df2['Value_clean'])`"
   ]
  },
  {
   "cell_type": "code",
   "execution_count": 229,
   "metadata": {
    "scrolled": true
   },
   "outputs": [
    {
     "data": {
      "text/plain": [
       "Name              object\n",
       "Location          object\n",
       "Country           object\n",
       "Total_Amount      object\n",
       " year              int64\n",
       "Type              object\n",
       "Clean            float64\n",
       "Country_clean     object\n",
       "dtype: object"
      ]
     },
     "execution_count": 229,
     "metadata": {},
     "output_type": "execute_result"
    }
   ],
   "source": [
    "df2['Clean'] = pd.to_numeric(df2['Clean'])\n",
    "df2.dtypes"
   ]
  },
  {
   "cell_type": "markdown",
   "metadata": {},
   "source": [
    "## Dropping and re-naming columns\n",
    "\n",
    "Let's clean up our dataframe a bit by dropping the Type column \n",
    "`df2 = df2.drop(columns=\"Type \")`"
   ]
  },
  {
   "cell_type": "code",
   "execution_count": 230,
   "metadata": {},
   "outputs": [
    {
     "data": {
      "text/plain": [
       "Farm Subsidary    480\n",
       "Name: Type , dtype: int64"
      ]
     },
     "execution_count": 230,
     "metadata": {},
     "output_type": "execute_result"
    }
   ],
   "source": [
    "df['Type '].value_counts()"
   ]
  },
  {
   "cell_type": "code",
   "execution_count": 231,
   "metadata": {},
   "outputs": [
    {
     "data": {
      "text/html": [
       "<div>\n",
       "<style scoped>\n",
       "    .dataframe tbody tr th:only-of-type {\n",
       "        vertical-align: middle;\n",
       "    }\n",
       "\n",
       "    .dataframe tbody tr th {\n",
       "        vertical-align: top;\n",
       "    }\n",
       "\n",
       "    .dataframe thead th {\n",
       "        text-align: right;\n",
       "    }\n",
       "</style>\n",
       "<table border=\"1\" class=\"dataframe\">\n",
       "  <thead>\n",
       "    <tr style=\"text-align: right;\">\n",
       "      <th></th>\n",
       "      <th>Name</th>\n",
       "      <th>Location</th>\n",
       "      <th>Country</th>\n",
       "      <th>Total_Amount</th>\n",
       "      <th>year</th>\n",
       "      <th>Clean</th>\n",
       "      <th>Country_clean</th>\n",
       "    </tr>\n",
       "  </thead>\n",
       "  <tbody>\n",
       "    <tr>\n",
       "      <th>0</th>\n",
       "      <td>THE IRISH DAIRY BOARD CO-OP</td>\n",
       "      <td>Dublin,</td>\n",
       "      <td>IE</td>\n",
       "      <td>€ 8,399,529.90</td>\n",
       "      <td>2013</td>\n",
       "      <td>8399529.90</td>\n",
       "      <td>Ireland</td>\n",
       "    </tr>\n",
       "    <tr>\n",
       "      <th>1</th>\n",
       "      <td>BALLYHOURA DEVELOPMENT LTD.</td>\n",
       "      <td>Limerick,</td>\n",
       "      <td>IE</td>\n",
       "      <td>€ 7,231,200.44</td>\n",
       "      <td>2013</td>\n",
       "      <td>7231200.44</td>\n",
       "      <td>IE</td>\n",
       "    </tr>\n",
       "    <tr>\n",
       "      <th>2</th>\n",
       "      <td>WEST CORK DEVELOPMENT PARTNERSHIP LTD.</td>\n",
       "      <td>Cork,</td>\n",
       "      <td>IE</td>\n",
       "      <td>€ 6,487,223.82</td>\n",
       "      <td>2013</td>\n",
       "      <td>6487223.82</td>\n",
       "      <td>IE</td>\n",
       "    </tr>\n",
       "    <tr>\n",
       "      <th>3</th>\n",
       "      <td>GALWAY RURAL DEVELOPMENT COMPANY</td>\n",
       "      <td>Galway,</td>\n",
       "      <td>IE</td>\n",
       "      <td>€ 6,144,907.97</td>\n",
       "      <td>2013</td>\n",
       "      <td>6144907.97</td>\n",
       "      <td>IE</td>\n",
       "    </tr>\n",
       "    <tr>\n",
       "      <th>4</th>\n",
       "      <td>WEXFORD LOCAL DEVELOPMENT</td>\n",
       "      <td>Wexford,</td>\n",
       "      <td>IE</td>\n",
       "      <td>€ 6,100,526.55</td>\n",
       "      <td>2013</td>\n",
       "      <td>6100526.55</td>\n",
       "      <td>IE</td>\n",
       "    </tr>\n",
       "  </tbody>\n",
       "</table>\n",
       "</div>"
      ],
      "text/plain": [
       "                                     Name   Location Country  \\\n",
       "0             THE IRISH DAIRY BOARD CO-OP    Dublin,      IE   \n",
       "1             BALLYHOURA DEVELOPMENT LTD.  Limerick,      IE   \n",
       "2  WEST CORK DEVELOPMENT PARTNERSHIP LTD.      Cork,      IE   \n",
       "3        GALWAY RURAL DEVELOPMENT COMPANY    Galway,      IE   \n",
       "4               WEXFORD LOCAL DEVELOPMENT   Wexford,      IE   \n",
       "\n",
       "       Total_Amount   year       Clean Country_clean  \n",
       "0   € 8,399,529.90    2013  8399529.90       Ireland  \n",
       "1   € 7,231,200.44    2013  7231200.44            IE  \n",
       "2   € 6,487,223.82    2013  6487223.82            IE  \n",
       "3   € 6,144,907.97    2013  6144907.97            IE  \n",
       "4   € 6,100,526.55    2013  6100526.55            IE  "
      ]
     },
     "execution_count": 231,
     "metadata": {},
     "output_type": "execute_result"
    }
   ],
   "source": [
    "df2 = df2.drop(columns=\"Type \")\n",
    "df2.head()"
   ]
  },
  {
   "cell_type": "markdown",
   "metadata": {},
   "source": [
    "Now that's gone, let's rename the Clean column\n",
    "\n",
    "`df2 = df2.rename(columns={'old_name': 'new_name'})`"
   ]
  },
  {
   "cell_type": "code",
   "execution_count": 232,
   "metadata": {},
   "outputs": [
    {
     "data": {
      "text/html": [
       "<div>\n",
       "<style scoped>\n",
       "    .dataframe tbody tr th:only-of-type {\n",
       "        vertical-align: middle;\n",
       "    }\n",
       "\n",
       "    .dataframe tbody tr th {\n",
       "        vertical-align: top;\n",
       "    }\n",
       "\n",
       "    .dataframe thead th {\n",
       "        text-align: right;\n",
       "    }\n",
       "</style>\n",
       "<table border=\"1\" class=\"dataframe\">\n",
       "  <thead>\n",
       "    <tr style=\"text-align: right;\">\n",
       "      <th></th>\n",
       "      <th>Name</th>\n",
       "      <th>Location</th>\n",
       "      <th>Country</th>\n",
       "      <th>Total_Amount</th>\n",
       "      <th>year</th>\n",
       "      <th>Amount_Clean</th>\n",
       "      <th>Country_clean</th>\n",
       "    </tr>\n",
       "  </thead>\n",
       "  <tbody>\n",
       "    <tr>\n",
       "      <th>0</th>\n",
       "      <td>THE IRISH DAIRY BOARD CO-OP</td>\n",
       "      <td>Dublin,</td>\n",
       "      <td>IE</td>\n",
       "      <td>€ 8,399,529.90</td>\n",
       "      <td>2013</td>\n",
       "      <td>8399529.90</td>\n",
       "      <td>Ireland</td>\n",
       "    </tr>\n",
       "    <tr>\n",
       "      <th>1</th>\n",
       "      <td>BALLYHOURA DEVELOPMENT LTD.</td>\n",
       "      <td>Limerick,</td>\n",
       "      <td>IE</td>\n",
       "      <td>€ 7,231,200.44</td>\n",
       "      <td>2013</td>\n",
       "      <td>7231200.44</td>\n",
       "      <td>IE</td>\n",
       "    </tr>\n",
       "    <tr>\n",
       "      <th>2</th>\n",
       "      <td>WEST CORK DEVELOPMENT PARTNERSHIP LTD.</td>\n",
       "      <td>Cork,</td>\n",
       "      <td>IE</td>\n",
       "      <td>€ 6,487,223.82</td>\n",
       "      <td>2013</td>\n",
       "      <td>6487223.82</td>\n",
       "      <td>IE</td>\n",
       "    </tr>\n",
       "    <tr>\n",
       "      <th>3</th>\n",
       "      <td>GALWAY RURAL DEVELOPMENT COMPANY</td>\n",
       "      <td>Galway,</td>\n",
       "      <td>IE</td>\n",
       "      <td>€ 6,144,907.97</td>\n",
       "      <td>2013</td>\n",
       "      <td>6144907.97</td>\n",
       "      <td>IE</td>\n",
       "    </tr>\n",
       "    <tr>\n",
       "      <th>4</th>\n",
       "      <td>WEXFORD LOCAL DEVELOPMENT</td>\n",
       "      <td>Wexford,</td>\n",
       "      <td>IE</td>\n",
       "      <td>€ 6,100,526.55</td>\n",
       "      <td>2013</td>\n",
       "      <td>6100526.55</td>\n",
       "      <td>IE</td>\n",
       "    </tr>\n",
       "  </tbody>\n",
       "</table>\n",
       "</div>"
      ],
      "text/plain": [
       "                                     Name   Location Country  \\\n",
       "0             THE IRISH DAIRY BOARD CO-OP    Dublin,      IE   \n",
       "1             BALLYHOURA DEVELOPMENT LTD.  Limerick,      IE   \n",
       "2  WEST CORK DEVELOPMENT PARTNERSHIP LTD.      Cork,      IE   \n",
       "3        GALWAY RURAL DEVELOPMENT COMPANY    Galway,      IE   \n",
       "4               WEXFORD LOCAL DEVELOPMENT   Wexford,      IE   \n",
       "\n",
       "       Total_Amount   year  Amount_Clean Country_clean  \n",
       "0   € 8,399,529.90    2013    8399529.90       Ireland  \n",
       "1   € 7,231,200.44    2013    7231200.44            IE  \n",
       "2   € 6,487,223.82    2013    6487223.82            IE  \n",
       "3   € 6,144,907.97    2013    6144907.97            IE  \n",
       "4   € 6,100,526.55    2013    6100526.55            IE  "
      ]
     },
     "execution_count": 232,
     "metadata": {},
     "output_type": "execute_result"
    }
   ],
   "source": [
    "df2 = df2.rename(columns={'Clean': 'Amount_Clean'})\n",
    "df2.head()"
   ]
  },
  {
   "cell_type": "markdown",
   "metadata": {},
   "source": [
    "Let's make sure there aren't any trail or leading spaces in the column names, if so this could cause havoc\n",
    "\n",
    "`df2.columns`"
   ]
  },
  {
   "cell_type": "code",
   "execution_count": 233,
   "metadata": {},
   "outputs": [
    {
     "data": {
      "text/plain": [
       "Index(['Name', 'Location', 'Country', 'Total_Amount', ' year', 'Amount_Clean',\n",
       "       'Country_clean'],\n",
       "      dtype='object')"
      ]
     },
     "execution_count": 233,
     "metadata": {},
     "output_type": "execute_result"
    }
   ],
   "source": [
    "df2.columns"
   ]
  },
  {
   "cell_type": "code",
   "execution_count": 234,
   "metadata": {
    "scrolled": false
   },
   "outputs": [
    {
     "data": {
      "text/html": [
       "<div>\n",
       "<style scoped>\n",
       "    .dataframe tbody tr th:only-of-type {\n",
       "        vertical-align: middle;\n",
       "    }\n",
       "\n",
       "    .dataframe tbody tr th {\n",
       "        vertical-align: top;\n",
       "    }\n",
       "\n",
       "    .dataframe thead th {\n",
       "        text-align: right;\n",
       "    }\n",
       "</style>\n",
       "<table border=\"1\" class=\"dataframe\">\n",
       "  <thead>\n",
       "    <tr style=\"text-align: right;\">\n",
       "      <th></th>\n",
       "      <th>Name</th>\n",
       "      <th>Location</th>\n",
       "      <th>Country</th>\n",
       "      <th>Total_Amount</th>\n",
       "      <th>year</th>\n",
       "      <th>Amount_Clean</th>\n",
       "      <th>Country_clean</th>\n",
       "    </tr>\n",
       "  </thead>\n",
       "  <tbody>\n",
       "    <tr>\n",
       "      <th>0</th>\n",
       "      <td>THE IRISH DAIRY BOARD CO-OP</td>\n",
       "      <td>Dublin,</td>\n",
       "      <td>IE</td>\n",
       "      <td>€ 8,399,529.90</td>\n",
       "      <td>2013</td>\n",
       "      <td>8399529.90</td>\n",
       "      <td>Ireland</td>\n",
       "    </tr>\n",
       "    <tr>\n",
       "      <th>1</th>\n",
       "      <td>BALLYHOURA DEVELOPMENT LTD.</td>\n",
       "      <td>Limerick,</td>\n",
       "      <td>IE</td>\n",
       "      <td>€ 7,231,200.44</td>\n",
       "      <td>2013</td>\n",
       "      <td>7231200.44</td>\n",
       "      <td>IE</td>\n",
       "    </tr>\n",
       "    <tr>\n",
       "      <th>2</th>\n",
       "      <td>WEST CORK DEVELOPMENT PARTNERSHIP LTD.</td>\n",
       "      <td>Cork,</td>\n",
       "      <td>IE</td>\n",
       "      <td>€ 6,487,223.82</td>\n",
       "      <td>2013</td>\n",
       "      <td>6487223.82</td>\n",
       "      <td>IE</td>\n",
       "    </tr>\n",
       "    <tr>\n",
       "      <th>3</th>\n",
       "      <td>GALWAY RURAL DEVELOPMENT COMPANY</td>\n",
       "      <td>Galway,</td>\n",
       "      <td>IE</td>\n",
       "      <td>€ 6,144,907.97</td>\n",
       "      <td>2013</td>\n",
       "      <td>6144907.97</td>\n",
       "      <td>IE</td>\n",
       "    </tr>\n",
       "    <tr>\n",
       "      <th>4</th>\n",
       "      <td>WEXFORD LOCAL DEVELOPMENT</td>\n",
       "      <td>Wexford,</td>\n",
       "      <td>IE</td>\n",
       "      <td>€ 6,100,526.55</td>\n",
       "      <td>2013</td>\n",
       "      <td>6100526.55</td>\n",
       "      <td>IE</td>\n",
       "    </tr>\n",
       "  </tbody>\n",
       "</table>\n",
       "</div>"
      ],
      "text/plain": [
       "                                     Name   Location Country  \\\n",
       "0             THE IRISH DAIRY BOARD CO-OP    Dublin,      IE   \n",
       "1             BALLYHOURA DEVELOPMENT LTD.  Limerick,      IE   \n",
       "2  WEST CORK DEVELOPMENT PARTNERSHIP LTD.      Cork,      IE   \n",
       "3        GALWAY RURAL DEVELOPMENT COMPANY    Galway,      IE   \n",
       "4               WEXFORD LOCAL DEVELOPMENT   Wexford,      IE   \n",
       "\n",
       "       Total_Amount   year  Amount_Clean Country_clean  \n",
       "0   € 8,399,529.90    2013    8399529.90       Ireland  \n",
       "1   € 7,231,200.44    2013    7231200.44            IE  \n",
       "2   € 6,487,223.82    2013    6487223.82            IE  \n",
       "3   € 6,144,907.97    2013    6144907.97            IE  \n",
       "4   € 6,100,526.55    2013    6100526.55            IE  "
      ]
     },
     "execution_count": 234,
     "metadata": {},
     "output_type": "execute_result"
    }
   ],
   "source": [
    "df2.head()"
   ]
  },
  {
   "cell_type": "markdown",
   "metadata": {},
   "source": [
    "### Analysis"
   ]
  },
  {
   "cell_type": "markdown",
   "metadata": {},
   "source": [
    "Now we have a lovely clean data set and let's dig in a little and see which group go the most money"
   ]
  },
  {
   "cell_type": "code",
   "execution_count": 236,
   "metadata": {},
   "outputs": [
    {
     "data": {
      "text/plain": [
       "Name\n",
       "A P DILLON & CO                            442111.52\n",
       "ADAMSTOWN FARM LTD                          65508.96\n",
       "AGRI & HORT COLLEGE                        274087.83\n",
       "AGRICULTURAL SCHOOL                        158582.32\n",
       "AGRIFARM ENTERPRISES LTD                   196129.95\n",
       "AIDAN & KATHLEEN TREACY LTD                113111.26\n",
       "AIDAN REARDON LTD                           50715.36\n",
       "ALAN MULLIGAN CONTRACTS LTD                 40383.01\n",
       "ALLEN NURSERY LTD                          120237.33\n",
       "AN BORD BIA                               1337958.01\n",
       "ARDBOY DAIRY LTD                           120169.25\n",
       "ARDENVILLE FARMS LTD                       131792.07\n",
       "ARDKEENA AGRI SERVICES LTD                  46901.77\n",
       "ARDNACRANEY FARMS LIMITED                   70957.38\n",
       "ARDNAMOHER FARM LIMITED                     28594.80\n",
       "ARTHUR SHORTEN LTD                         374740.21\n",
       "ASHBOURNE MEAT PROCESSORS                 1784851.12\n",
       "ATHBOY ESTABLISHMENT                       136284.99\n",
       "ATHLEAGUE MEATS                            208801.11\n",
       "AVONDHU BLACKWATER PARTNERSHIP LTD.       4275210.06\n",
       "BALLINACOR ESTATE CO LTD                   171501.23\n",
       "BALLINDURA FARMS & CO LTD                   33780.74\n",
       "BALLYBRACK FARM LIMITED                     98649.31\n",
       "BALLYCULLEN AGRI LIMITED                   120305.68\n",
       "BALLYDURN FARMS LTD                         61190.65\n",
       "BALLYFARM LTD                              117780.41\n",
       "BALLYHAMLET AGRICULTURE LTD                 28359.85\n",
       "BALLYHEADY FARMS LIMITED                    66221.08\n",
       "BALLYHENEBRY DAIRIES LTD                   218865.98\n",
       "BALLYHENEBRY FARMS LTD                     152007.71\n",
       "                                             ...    \n",
       "THREE TREES FARM LTD                        84694.15\n",
       "THURLES FRESH MILK LIMITED                  46647.81\n",
       "TIR NA RI FARM LTD                          34544.21\n",
       "TOM MURPHY FARM LTD                         60359.01\n",
       "TOMMY MORRISSEY FARMING LTD                 38077.62\n",
       "TOURNAGEEHA FARM LTD                        48872.32\n",
       "TOWN OF MONAGHAN CO OP                     557745.27\n",
       "UNICORN ECO FOUNDATION LTD                  36644.14\n",
       "UNIQUE INVENTIONS COMPANYLTD                27369.32\n",
       "UNITED HUNT CLUB                            38629.19\n",
       "UNIVERSITY COLLEGE DUBLIN                   65937.14\n",
       "UNIVERSITY OF LIMERICK                     249184.76\n",
       "VG LAND HOLDINGS LTD                       126234.54\n",
       "W I HUTCHINSON LIMITED                      63637.67\n",
       "W P KEELING                                 59546.48\n",
       "WARD WASTE PRODUCTS LTD                     40355.44\n",
       "WATERFORD LEADER PARTNERSHIP LTD.         4760821.86\n",
       "WEST CORK DEVELOPMENT PARTNERSHIP LTD.    6487223.82\n",
       "WEST LIMERICK RESOURCES LTD               4622284.29\n",
       "WESTERN FARMING CO OP                       43890.94\n",
       "WESTMEATH COMMUNITY DEVELOPMENT LTD       2556021.35\n",
       "WESTMOUNT FARMING LTD                      245981.99\n",
       "WEXFORD CREAMERY LTD                       131514.48\n",
       "WEXFORD LAND HOLDING                        68152.49\n",
       "WEXFORD LOCAL DEVELOPMENT                 6100526.55\n",
       "WHITEHORN FARM LIMITED                     189725.25\n",
       "WILLIAM MOLONEY LTD                        110978.03\n",
       "WILLIAM O'LEARY FARM LTD                    48396.04\n",
       "WILLIAM SNOW & SONS LTD                     86542.60\n",
       "WOODSGIFT FARM LTD                          68565.50\n",
       "Name: Amount_Clean, Length: 473, dtype: float64"
      ]
     },
     "execution_count": 236,
     "metadata": {},
     "output_type": "execute_result"
    }
   ],
   "source": [
    "df2.groupby('Name')['Amount_Clean'].sum()"
   ]
  },
  {
   "cell_type": "markdown",
   "metadata": {},
   "source": [
    "That's not very clear, let's sort the data"
   ]
  },
  {
   "cell_type": "code",
   "execution_count": 239,
   "metadata": {},
   "outputs": [
    {
     "data": {
      "text/plain": [
       "Name\n",
       "THE IRISH DAIRY BOARD CO-OP                 8399529.90\n",
       "BALLYHOURA DEVELOPMENT LTD.                 7231200.44\n",
       "WEST CORK DEVELOPMENT PARTNERSHIP LTD.      6487223.82\n",
       "GALWAY RURAL DEVELOPMENT COMPANY            6144907.97\n",
       "WEXFORD LOCAL DEVELOPMENT                   6100526.55\n",
       "CO KILKENNY LEADER PARTNERSHIP              5489784.19\n",
       "CLARE LOCAL DEVELOPMENT COMPANY LTD.        5411178.07\n",
       "IRD DUHALLOW LTD.                           5379994.02\n",
       "SOUTH TIPPERARY LOCAL DEVELOPMENT CO LTD    5208545.68\n",
       "DONEGAL LOCAL DEVELOPMENT COMPANY LTD.      4814034.80\n",
       "WATERFORD LEADER PARTNERSHIP LTD.           4760821.86\n",
       "WEST LIMERICK RESOURCES LTD                 4622284.29\n",
       "CILL DARA AR AGHAIDH TEO                    4530196.44\n",
       "NORTH EAST KERRY LEADER PARTNERSHIP TEO     4454549.15\n",
       "NORTH TIPPERARY LEADER PARTNERSHIP          4391585.54\n",
       "AVONDHU BLACKWATER PARTNERSHIP LTD.         4275210.06\n",
       "MEATH COMMUNITY RURAL AND SOCIAL DEV.       4094985.83\n",
       "LEITRIM INTEGRATED DEVELOPMENT CO LTD       4041148.69\n",
       "CAVAN-MONAGHAN LEADER                       3958816.63\n",
       "CARLOW COUNTY DEVELOPMENT PARTNERSHIP LT    3897002.73\n",
       "OFFALY INTEGRATED LOCAL DEV CO. LTD.        3865610.73\n",
       "SOUTH WEST MAYO DEVELOPMENT COMPANY LTD     3791631.80\n",
       "LAOIS COMMUNITY AND ENTERPRISE DEV          3754856.64\n",
       "SOUTH AND EAST CORK AREA DEV LTD.           3464093.68\n",
       "CO. SLIGO LEADER PARTNERSHIP COMPANY LTD    3394164.04\n",
       "INISHOWEN DEVELOPMENT PARTNERSHIP           3393117.14\n",
       "ROSCOMMON INTEGRATED DEVELOPMENT COMPANY    3330341.25\n",
       "SOUTH KERRY DEVELOPMENT LTD.                3252079.53\n",
       "LOUTH LEADER PARTNERSHIP                    3177939.82\n",
       "CO WICKLOW COMMUNITY PARTNERSHIP            2703275.52\n",
       "                                               ...    \n",
       "BALLYHAMLET AGRICULTURE LTD                   28359.85\n",
       "CUAN MHUIRE TRUST                             28143.18\n",
       "DALEVIEW FARM LTD                             28125.19\n",
       "SELENE EQUESTRIAN LIMITED                     27489.54\n",
       "DELOUR FARM LTD                               27451.14\n",
       "UNIQUE INVENTIONS COMPANYLTD                  27369.32\n",
       "FOYFIN DAIRY LIMITED                          27329.64\n",
       "LOUGH ARROW ESTATES LTD                       27055.60\n",
       "DAWN DAIRIES KILLARNEY MILK                   26734.50\n",
       "CAIRDE CHOLAISTE IDE TEO                      26476.63\n",
       "NEWCASTLE DAIRY FARM LIMITED                  26066.10\n",
       "P & O MC HUGH LTD                             25849.65\n",
       "JONATHAN NYHAN LTD                            25836.38\n",
       "ST JOSEPH'S MONASTERY                         25763.89\n",
       "DERRIN FARM LIMITED                           25616.47\n",
       "GRANGE CUFFE LTD                              25546.35\n",
       "LOUGHREA MART                                 25048.86\n",
       "MONAGHAN FARMS LTD W M                        24869.43\n",
       "COMHAR CHUMANN U CIARRAI                      24774.89\n",
       "LANDBRUG                                      24719.23\n",
       "KAZIMO LTD                                    24670.99\n",
       "BLACKOAK FARMS LIMITED                        24355.77\n",
       "BARBA GOAT FARM LIMITED                       24310.57\n",
       "GLENDARA FARM LTD                             23480.69\n",
       "BALLYVERASSA FARM LTD                         23130.12\n",
       "CLOUGHJORDAN COMMUNITY FARM                   22860.60\n",
       "DARTFIELD LTD                                 22822.52\n",
       "PULLEN LTD                                    22187.19\n",
       "FARRANCONNOR FARM LIMITED                     22140.52\n",
       "MARIA PHELAN LTD                              22076.33\n",
       "Name: Amount_Clean, Length: 473, dtype: float64"
      ]
     },
     "execution_count": 239,
     "metadata": {},
     "output_type": "execute_result"
    }
   ],
   "source": [
    "df2.groupby('Name')['Amount_Clean'].sum().sort_values(ascending=False)"
   ]
  },
  {
   "cell_type": "markdown",
   "metadata": {},
   "source": [
    "## Saving our data\n",
    "\n",
    "Ok finally let's save our clean for the next class\n",
    "\n",
    "`df2.to_csv('clean_data.csv', encoding='utf8')`"
   ]
  },
  {
   "cell_type": "code",
   "execution_count": 31,
   "metadata": {
    "collapsed": true
   },
   "outputs": [],
   "source": [
    "df2.to_csv('clean_data.csv', encoding='utf8')"
   ]
  },
  {
   "cell_type": "code",
   "execution_count": null,
   "metadata": {
    "collapsed": true
   },
   "outputs": [],
   "source": []
  }
 ],
 "metadata": {
  "kernelspec": {
   "display_name": "Python 3",
   "language": "python",
   "name": "python3"
  },
  "language_info": {
   "codemirror_mode": {
    "name": "ipython",
    "version": 3
   },
   "file_extension": ".py",
   "mimetype": "text/x-python",
   "name": "python",
   "nbconvert_exporter": "python",
   "pygments_lexer": "ipython3",
   "version": "3.7.2"
  }
 },
 "nbformat": 4,
 "nbformat_minor": 2
}
